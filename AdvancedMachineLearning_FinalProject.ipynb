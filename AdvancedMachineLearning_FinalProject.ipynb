{
  "nbformat": 4,
  "nbformat_minor": 0,
  "metadata": {
    "colab": {
      "name": "AdvancedMachineLearning_FinalProject.ipynb",
      "provenance": [],
      "collapsed_sections": [],
      "include_colab_link": true
    },
    "kernelspec": {
      "name": "python3",
      "display_name": "Python 3"
    }
  },
  "cells": [
    {
      "cell_type": "markdown",
      "metadata": {
        "id": "view-in-github",
        "colab_type": "text"
      },
      "source": [
        "<a href=\"https://colab.research.google.com/github/carriestienen/cdc_healthdata/blob/main/AdvancedMachineLearning_FinalProject.ipynb\" target=\"_parent\"><img src=\"https://colab.research.google.com/assets/colab-badge.svg\" alt=\"Open In Colab\"/></a>"
      ]
    },
    {
      "cell_type": "code",
      "metadata": {
        "id": "p5a_PF14s684",
        "outputId": "c7e13990-6856-4def-9131-68b449e4b5ee",
        "colab": {
          "base_uri": "https://localhost:8080/"
        }
      },
      "source": [
        "print(\"Turn up!!!\")"
      ],
      "execution_count": 14,
      "outputs": [
        {
          "output_type": "stream",
          "text": [
            "Turn up!!!\n"
          ],
          "name": "stdout"
        }
      ]
    },
    {
      "cell_type": "code",
      "metadata": {
        "id": "6vawYm6rtYT1",
        "outputId": "24bcf9d1-2687-466e-f78b-dca83f9b23a2",
        "colab": {
          "base_uri": "https://localhost:8080/"
        }
      },
      "source": [
        "import sys\n",
        "print(sys.version)"
      ],
      "execution_count": 15,
      "outputs": [
        {
          "output_type": "stream",
          "text": [
            "3.6.9 (default, Oct  8 2020, 12:12:24) \n",
            "[GCC 8.4.0]\n"
          ],
          "name": "stdout"
        }
      ]
    },
    {
      "cell_type": "code",
      "metadata": {
        "id": "M__b1Ttht3R3"
      },
      "source": [
        "import pandas as pd\n",
        "import numpy as np"
      ],
      "execution_count": 16,
      "outputs": []
    },
    {
      "cell_type": "code",
      "metadata": {
        "id": "DnRkrXb7usex",
        "outputId": "1c5064f2-789c-49be-8519-4189c734e4a9",
        "colab": {
          "base_uri": "https://localhost:8080/",
          "height": 306
        }
      },
      "source": [
        "# Scrapper\n",
        "\n",
        "links = [\"https://wwwn.cdc.gov/Nchs/Nhanes/Search/variablelist.aspx?Component=Questionnaire&CycleBeginYear=2013\",\n",
        "         \"https://wwwn.cdc.gov/Nchs/Nhanes/Search/variablelist.aspx?Component=Laboratory&CycleBeginYear=2013\",\n",
        "         \"https://wwwn.cdc.gov/Nchs/Nhanes/Search/variablelist.aspx?Component=Examination&CycleBeginYear=2013\",\n",
        "         \"https://wwwn.cdc.gov/Nchs/Nhanes/Search/variablelist.aspx?Component=Dietary&CycleBeginYear=2013\",\n",
        "         \"https://wwwn.cdc.gov/Nchs/Nhanes/Search/variablelist.aspx?Component=Demographics&CycleBeginYear=2013\",\n",
        "         \"https://wwwn.cdc.gov/Nchs/Nhanes/Search/variablelist.aspx?Component=Laboratory&CycleBeginYear=2013\"]\n",
        "\n",
        "dfCodes = pd.DataFrame()\n",
        "for link in links:\n",
        "  dfTemp = pd.read_html(link)\n",
        "  dfCodes = dfCodes.append(dfTemp)\n",
        "\n",
        "dfCodes.head()"
      ],
      "execution_count": 17,
      "outputs": [
        {
          "output_type": "execute_result",
          "data": {
            "text/html": [
              "<div>\n",
              "<style scoped>\n",
              "    .dataframe tbody tr th:only-of-type {\n",
              "        vertical-align: middle;\n",
              "    }\n",
              "\n",
              "    .dataframe tbody tr th {\n",
              "        vertical-align: top;\n",
              "    }\n",
              "\n",
              "    .dataframe thead th {\n",
              "        text-align: right;\n",
              "    }\n",
              "</style>\n",
              "<table border=\"1\" class=\"dataframe\">\n",
              "  <thead>\n",
              "    <tr style=\"text-align: right;\">\n",
              "      <th></th>\n",
              "      <th>Variable Name</th>\n",
              "      <th>Variable Description</th>\n",
              "      <th>Data File Name</th>\n",
              "      <th>Data File Description</th>\n",
              "      <th>Begin Year</th>\n",
              "      <th>EndYear</th>\n",
              "      <th>Component</th>\n",
              "      <th>Use Constraints</th>\n",
              "    </tr>\n",
              "  </thead>\n",
              "  <tbody>\n",
              "    <tr>\n",
              "      <th>0</th>\n",
              "      <td>DLQ010</td>\n",
              "      <td>With this next set of questions, we want to le...</td>\n",
              "      <td>DLQ_H</td>\n",
              "      <td>Disability</td>\n",
              "      <td>2013</td>\n",
              "      <td>2014</td>\n",
              "      <td>Questionnaire</td>\n",
              "      <td>None</td>\n",
              "    </tr>\n",
              "    <tr>\n",
              "      <th>1</th>\n",
              "      <td>DLQ020</td>\n",
              "      <td>{Are you/Is SP} blind or {do you/does he/does ...</td>\n",
              "      <td>DLQ_H</td>\n",
              "      <td>Disability</td>\n",
              "      <td>2013</td>\n",
              "      <td>2014</td>\n",
              "      <td>Questionnaire</td>\n",
              "      <td>None</td>\n",
              "    </tr>\n",
              "    <tr>\n",
              "      <th>2</th>\n",
              "      <td>DLQ040</td>\n",
              "      <td>Because of a physical, mental, or emotional co...</td>\n",
              "      <td>DLQ_H</td>\n",
              "      <td>Disability</td>\n",
              "      <td>2013</td>\n",
              "      <td>2014</td>\n",
              "      <td>Questionnaire</td>\n",
              "      <td>None</td>\n",
              "    </tr>\n",
              "    <tr>\n",
              "      <th>3</th>\n",
              "      <td>DLQ050</td>\n",
              "      <td>{Do you/Does SP} have serious difficulty walki...</td>\n",
              "      <td>DLQ_H</td>\n",
              "      <td>Disability</td>\n",
              "      <td>2013</td>\n",
              "      <td>2014</td>\n",
              "      <td>Questionnaire</td>\n",
              "      <td>None</td>\n",
              "    </tr>\n",
              "    <tr>\n",
              "      <th>4</th>\n",
              "      <td>DLQ060</td>\n",
              "      <td>{Do you/Does SP} have difficulty dressing or b...</td>\n",
              "      <td>DLQ_H</td>\n",
              "      <td>Disability</td>\n",
              "      <td>2013</td>\n",
              "      <td>2014</td>\n",
              "      <td>Questionnaire</td>\n",
              "      <td>None</td>\n",
              "    </tr>\n",
              "  </tbody>\n",
              "</table>\n",
              "</div>"
            ],
            "text/plain": [
              "  Variable Name  ... Use Constraints\n",
              "0        DLQ010  ...            None\n",
              "1        DLQ020  ...            None\n",
              "2        DLQ040  ...            None\n",
              "3        DLQ050  ...            None\n",
              "4        DLQ060  ...            None\n",
              "\n",
              "[5 rows x 8 columns]"
            ]
          },
          "metadata": {
            "tags": []
          },
          "execution_count": 17
        }
      ]
    },
    {
      "cell_type": "code",
      "metadata": {
        "id": "Tr1aCiS64RXt",
        "outputId": "799ce4e6-87d5-436f-e21d-269461e12da1",
        "colab": {
          "base_uri": "https://localhost:8080/"
        }
      },
      "source": [
        "import requests\n",
        "from io import StringIO\n",
        "\n",
        "orig_url = \"https://drive.google.com/uc?export=download&id=1XrPnbUNcv3kzRBDOpfV0kNTNnxEDHTTT\"\n",
        "\n",
        "url = requests.get(orig_url)\n",
        "csv_raw = StringIO(url.text)\n",
        "dfs = pd.read_csv(csv_raw)\n",
        "print(dfs.head())"
      ],
      "execution_count": 25,
      "outputs": [
        {
          "output_type": "stream",
          "text": [
            "/usr/local/lib/python3.6/dist-packages/IPython/core/interactiveshell.py:2718: DtypeWarning: Columns (1664) have mixed types.Specify dtype option on import or set low_memory=False.\n",
            "  interactivity=interactivity, compiler=compiler, result=result)\n"
          ],
          "name": "stderr"
        },
        {
          "output_type": "stream",
          "text": [
            "   Unnamed: 0   SEQN  SDDSRVYR  RIDSTATR  ...  WHQ150  WHQ030M  WHQ500  WHQ520\n",
            "0           0  73557         8         2  ...    62.0      NaN     NaN     NaN\n",
            "1           1  73558         8         2  ...    25.0      NaN     NaN     NaN\n",
            "2           2  73559         8         2  ...    35.0      NaN     NaN     NaN\n",
            "3           3  73560         8         2  ...     NaN      3.0     3.0     3.0\n",
            "4           4  73561         8         2  ...    60.0      NaN     NaN     NaN\n",
            "\n",
            "[5 rows x 1813 columns]\n"
          ],
          "name": "stdout"
        }
      ]
    }
  ]
}